{
 "cells": [
  {
   "cell_type": "code",
   "execution_count": 41,
   "id": "c70b9e7e-6cea-43b4-b5a9-15d3eac59a52",
   "metadata": {},
   "outputs": [],
   "source": [
    "import cv2\n",
    "import os\n",
    "\n",
    "path = os.getcwd() + \"/img/img (1).jpg\"\n",
    "img = cv2.imread(path)\n",
    "#print(img)\n",
    "# print(img.shape)\n",
    "# x,y,z =img.shape\n",
    "# print(x,y,z)\n",
    "# cv2.imshow(\"Window\",img)\n",
    "# cv2.waitKey(3000)\n",
    "# cv2.destroyWindow(\"Window\")\n",
    "\n",
    "def display(title,img):\n",
    "    cv2.imshow(title,img)\n",
    "    cv2.waitKey(0)\n",
    "    cv2.destroyAllWindows()"
   ]
  },
  {
   "cell_type": "code",
   "execution_count": 15,
   "id": "29b91aec-7497-4c85-bc67-4da867ae983f",
   "metadata": {},
   "outputs": [],
   "source": [
    "\n"
   ]
  },
  {
   "cell_type": "code",
   "execution_count": 43,
   "id": "7d70280a-30d9-41b6-9806-a6e61684fb75",
   "metadata": {},
   "outputs": [],
   "source": [
    "b,g,r = cv2.split(img)\n",
    "gray_img = cv2.cvtColor(img,cv2.COLOR_BGR2GRAY)\n",
    "img_2 = cv2.cvtColor(img,cv2.COLOR_BGR2RGB)\n",
    "\n",
    "cv2.imshow(\"Window\",img)\n",
    "cv2.imshow(\"gray_img\",gray_img)\n",
    "cv2.imshow(\"img_2\",img_2)\n",
    "cv2.waitKey(0)\n",
    "cv2.destroyAllWindows()\n"
   ]
  },
  {
   "cell_type": "code",
   "execution_count": 45,
   "id": "f76b9235-1f2a-4f32-ab4b-13b696d0a303",
   "metadata": {},
   "outputs": [],
   "source": [
    "height,width,z = img.shape\n",
    "quater_h = height/2\n",
    "quater_w = width/2\n",
    "\n",
    "green_color = (0,255,0)\n",
    "#thay đổi màu của góc 1/4 phía trên\n",
    "for y in range(int(quater_h)):\n",
    "    for x in range(int(quater_w)):\n",
    "        img_2[y,x] = green_color\n",
    "        \n",
    "display(\"windown\",img)\n",
    "display(\"window-2\",img_2)\n"
   ]
  },
  {
   "cell_type": "code",
   "execution_count": null,
   "id": "d510a253-7348-4ec9-bab7-3b7b081431c7",
   "metadata": {},
   "outputs": [],
   "source": []
  }
 ],
 "metadata": {
  "kernelspec": {
   "display_name": "Python 3 (ipykernel)",
   "language": "python",
   "name": "python3"
  },
  "language_info": {
   "codemirror_mode": {
    "name": "ipython",
    "version": 3
   },
   "file_extension": ".py",
   "mimetype": "text/x-python",
   "name": "python",
   "nbconvert_exporter": "python",
   "pygments_lexer": "ipython3",
   "version": "3.12.4"
  }
 },
 "nbformat": 4,
 "nbformat_minor": 5
}
