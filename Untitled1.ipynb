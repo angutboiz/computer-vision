{
 "cells": [
  {
   "cell_type": "code",
   "execution_count": 4,
   "id": "3bc00341-439d-4d0d-a505-bf2d1ce3a200",
   "metadata": {},
   "outputs": [],
   "source": [
    "import cv2\n",
    "import time\n",
    "\n",
    "camera = cv2.VideoCapture(0)\n",
    "\n",
    "cv2.namedWindow(\"Video Player\",cv2.WINDOW_NORMAL)\n",
    "interval = 20\n",
    "count = 0\n",
    "font = cv2.FONT_HERSHEY_SIMPLEX\n",
    "font_color = (255,255,255)\n",
    "font_scale = 2\n",
    "font_thickes = 2\n",
    "\n",
    "while True:\n",
    "    \n",
    "    start_time = time.time()\n",
    "    ret,frame = camera.read()\n",
    "    if not ret:\n",
    "        break\n",
    "    # time before read\n",
    "    count = count + 1\n",
    "    if (count % interval == 0):\n",
    "        cv2.imwrite(f'./data/imageAAA_{count}.jpg',frame)\n",
    "    end_time = time.time()\n",
    "    # calculate Fps\n",
    "    fps = 1/(end_time - start_time)\n",
    "    # write fps\n",
    "    cv2.putText(frame, f'FPS: {fps:.2f}', (100, 100), font, font_scale, font_color , font_thickes)\n",
    "    #show\n",
    "    cv2.imshow('Video Player', frame)\n",
    "    if(cv2.waitKey(10)==ord('q')):\n",
    "        break\n",
    "camera.release\n",
    "cv2.destroyAllWindows()\n"
   ]
  }
 ],
 "metadata": {
  "kernelspec": {
   "display_name": "Python 3 (ipykernel)",
   "language": "python",
   "name": "python3"
  },
  "language_info": {
   "codemirror_mode": {
    "name": "ipython",
    "version": 3
   },
   "file_extension": ".py",
   "mimetype": "text/x-python",
   "name": "python",
   "nbconvert_exporter": "python",
   "pygments_lexer": "ipython3",
   "version": "3.12.4"
  }
 },
 "nbformat": 4,
 "nbformat_minor": 5
}
