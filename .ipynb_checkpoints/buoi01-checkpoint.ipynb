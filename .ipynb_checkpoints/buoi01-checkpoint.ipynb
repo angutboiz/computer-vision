{
 "cells": [
  {
   "cell_type": "code",
   "execution_count": 2,
   "id": "ef7c9041-c861-45c5-94ef-f5973a0d1965",
   "metadata": {},
   "outputs": [],
   "source": [
    "from PIL import Image\n",
    "from image_tool import *"
   ]
  },
  {
   "cell_type": "code",
   "execution_count": 3,
   "id": "437829e0-3a37-4372-a518-05b69fdd7f07",
   "metadata": {
    "scrolled": true
   },
   "outputs": [
    {
     "name": "stdout",
     "output_type": "stream",
     "text": [
      "C:\\Users\\ADMIN\\Documents\\Python\n"
     ]
    }
   ],
   "source": [
    "dir = os.getcwd()\n",
    "print(dir)"
   ]
  },
  {
   "cell_type": "code",
   "execution_count": 4,
   "id": "8a124b8d-3b9d-4084-b345-cf37114241e1",
   "metadata": {},
   "outputs": [
    {
     "name": "stdout",
     "output_type": "stream",
     "text": [
      "C:\\Users\\ADMIN\\Documents\\Python/img\n"
     ]
    }
   ],
   "source": [
    "my_dir = dir + \"/img\"\n",
    "print(my_dir)"
   ]
  },
  {
   "cell_type": "code",
   "execution_count": 5,
   "id": "7c5a88cb-cd6f-42a2-890b-0bcda492a0e7",
   "metadata": {},
   "outputs": [
    {
     "ename": "NameError",
     "evalue": "name 'is_imge_file' is not defined",
     "output_type": "error",
     "traceback": [
      "\u001b[1;31m---------------------------------------------------------------------------\u001b[0m",
      "\u001b[1;31mNameError\u001b[0m                                 Traceback (most recent call last)",
      "Cell \u001b[1;32mIn[5], line 1\u001b[0m\n\u001b[1;32m----> 1\u001b[0m imgs \u001b[38;5;241m=\u001b[39m get_image_lists(my_dir)\n",
      "File \u001b[1;32m~\\Documents\\Python\\image_tool.py:30\u001b[0m, in \u001b[0;36mget_image_lists\u001b[1;34m(folder_path)\u001b[0m\n\u001b[0;32m     28\u001b[0m \u001b[38;5;28;01mfor\u001b[39;00m filename \u001b[38;5;129;01min\u001b[39;00m filesnames:\n\u001b[0;32m     29\u001b[0m     file_path \u001b[38;5;241m=\u001b[39m os\u001b[38;5;241m.\u001b[39mpath\u001b[38;5;241m.\u001b[39mjoin(folder_path,filename)\n\u001b[1;32m---> 30\u001b[0m     \u001b[38;5;28;01mif\u001b[39;00m os\u001b[38;5;241m.\u001b[39mpath\u001b[38;5;241m.\u001b[39misfile(file_path) \u001b[38;5;129;01mand\u001b[39;00m is_imge_file(file_path):\n\u001b[0;32m     31\u001b[0m         img \u001b[38;5;241m=\u001b[39m load_image(file_path)\n\u001b[0;32m     32\u001b[0m         image_list\u001b[38;5;241m.\u001b[39mappend(img)\n",
      "\u001b[1;31mNameError\u001b[0m: name 'is_imge_file' is not defined"
     ]
    }
   ],
   "source": [
    "imgs = get_image_lists(my_dir)"
   ]
  },
  {
   "cell_type": "code",
   "execution_count": null,
   "id": "8b8c2de9-b3f3-4e8d-b791-3dc10e9d85e9",
   "metadata": {},
   "outputs": [],
   "source": [
    "for img in imgs:\n",
    "    print(img.size)\n",
    "    display(img)"
   ]
  },
  {
   "cell_type": "code",
   "execution_count": null,
   "id": "b9aee756-723d-46c3-bc65-268aaa434787",
   "metadata": {},
   "outputs": [],
   "source": []
  },
  {
   "cell_type": "code",
   "execution_count": null,
   "id": "6ced196a-cb0c-433e-bc0c-336676fe315a",
   "metadata": {},
   "outputs": [],
   "source": []
  },
  {
   "cell_type": "code",
   "execution_count": null,
   "id": "be78828c-5bd2-4d91-8db2-5c640faf66c2",
   "metadata": {},
   "outputs": [],
   "source": []
  },
  {
   "cell_type": "code",
   "execution_count": null,
   "id": "d1484627-49a8-410b-b06c-e7377e976cc6",
   "metadata": {},
   "outputs": [],
   "source": []
  }
 ],
 "metadata": {
  "kernelspec": {
   "display_name": "Python 3 (ipykernel)",
   "language": "python",
   "name": "python3"
  },
  "language_info": {
   "codemirror_mode": {
    "name": "ipython",
    "version": 3
   },
   "file_extension": ".py",
   "mimetype": "text/x-python",
   "name": "python",
   "nbconvert_exporter": "python",
   "pygments_lexer": "ipython3",
   "version": "3.12.4"
  }
 },
 "nbformat": 4,
 "nbformat_minor": 5
}
