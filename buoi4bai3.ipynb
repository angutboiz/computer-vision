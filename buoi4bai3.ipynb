{
 "cells": [
  {
   "cell_type": "code",
   "execution_count": 4,
   "id": "09da4b26-770b-4024-83da-d2e053e83be7",
   "metadata": {},
   "outputs": [
    {
     "name": "stdout",
     "output_type": "stream",
     "text": [
      "[1 2 3]\n",
      "2\n"
     ]
    }
   ],
   "source": [
    "import numpy as np\n",
    "\n",
    "a = np.array([1,2,3])\n",
    "\n",
    "print(a)\n",
    "\n",
    "element = a[1]\n",
    "\n",
    "print(element)"
   ]
  },
  {
   "cell_type": "code",
   "execution_count": 8,
   "id": "dcc9b793-abce-48dc-aaeb-03c114465d70",
   "metadata": {},
   "outputs": [
    {
     "name": "stdout",
     "output_type": "stream",
     "text": [
      "[[ 1  3  4]\n",
      " [23 42  2]\n",
      " [ 2  7  8]] 2\n"
     ]
    }
   ],
   "source": [
    "#tạo mảng 2 chiều\n",
    "\n",
    "matrix = np.array([[1,3,4],[23,42,2],[2,7,8]])\n",
    "element = matrix[1,2]\n",
    "print(matrix,element)\n"
   ]
  },
  {
   "cell_type": "code",
   "execution_count": 14,
   "id": "cfb4b024-0380-42aa-aa20-9322e5de2d69",
   "metadata": {},
   "outputs": [
    {
     "name": "stdout",
     "output_type": "stream",
     "text": [
      "[6.23042070e-307 4.67296746e-307 1.69121096e-306 8.69412980e-312\n",
      " 2.52560479e-317]\n",
      "[ 0  1  2  3  4  5  6  7  8  9 10 11 12 13 14 15 16 17 18 19 20 21 22 23\n",
      " 24 25 26 27 28 29 30 31 32 33 34 35 36 37 38 39 40 41 42 43 44 45 46 47\n",
      " 48 49 50 51 52 53 54 55 56 57 58 59 60 61 62 63 64 65 66 67 68 69 70 71\n",
      " 72 73 74 75 76 77 78 79 80 81 82 83 84 85 86 87 88 89 90 91 92 93 94 95\n",
      " 96 97 98 99]\n"
     ]
    }
   ],
   "source": [
    "a = np.empty(5)\n",
    "print(a)\n",
    "\n",
    "#tao mang tu 1 -> 100\n",
    "a = np.arange(100)\n",
    "print(a)\n",
    "\n",
    "\n",
    "\n"
   ]
  },
  {
   "cell_type": "code",
   "execution_count": 42,
   "id": "a342b39d-1ee6-4ea1-956c-e3ca419afd35",
   "metadata": {},
   "outputs": [
    {
     "name": "stdout",
     "output_type": "stream",
     "text": [
      "[2 3 5 7 1]\n",
      "Sap xep: [1 2 3 5 7]\n",
      "Nguoc: [7 5 3 2 1]\n",
      "Them: [  7   5   3   2   1 100]\n",
      "Xoa [  7   5   3   1 100]\n",
      "sort col: [[1 2 3]\n",
      " [2 2 5]\n",
      " [5 7 8]]\n",
      "sort row: [[3 1 2]\n",
      " [5 2 2]\n",
      " [7 5 8]]\n",
      "số chiều: 2\n",
      "kích thước: 9\n",
      "Hình dạng: (3, 3)\n",
      "Chuyển kiểu: [3.000e+00 5.000e+00 5.750e+02 2.000e+00 3.210e+02 1.000e+00 4.235e+03\n",
      " 7.000e+00 2.320e+02]\n"
     ]
    }
   ],
   "source": [
    "#them xoa xua sap xep mang\n",
    "\n",
    "arr = np.array([2,3,5,7,1])\n",
    "print(arr)\n",
    "\n",
    "arr = np.sort(arr)\n",
    "print(\"Sap xep:\",arr)\n",
    "\n",
    "arr = np.sort(arr)[::-1]\n",
    "print(\"Nguoc:\",arr)\n",
    "\n",
    "arr = np.append(arr,100)\n",
    "print(\"Them:\",arr)\n",
    "\n",
    "arr = np.delete(arr,3)\n",
    "print(\"Xoa\",arr)\n",
    "\n",
    "arr = np.array([[3,1,2],[5,2,2],[7,5,8]])\n",
    "sortcol = np.sort(arr,axis=1)\n",
    "print(\"sort col:\",sortcol)\n",
    "sortrow = np.sort(arr,axis=0)\n",
    "print(\"sort row:\",sortrow)\n",
    "print(\"số chiều:\",arr.ndim)\n",
    "print(\"kích thước:\",arr.size)\n",
    "print(\"Hình dạng:\",arr.shape)\n",
    "\n",
    "#chuyể kiểu dữ liệu\n",
    "arr = np.array([3,5,575,2,321,1,4235,7,232])\n",
    "print(\"Chuyển kiểu:\",arr.astype(float))\n"
   ]
  },
  {
   "cell_type": "code",
   "execution_count": 56,
   "id": "a1ab3306-6900-4d0a-b591-2bf25400b075",
   "metadata": {},
   "outputs": [
    {
     "name": "stdout",
     "output_type": "stream",
     "text": [
      "[  3   5 575   2 321   1]\n",
      "[[  3   5 575]\n",
      " [  2 321   1]]\n",
      "Chuyển thành mảng 1 chiều [  3   5 575   2 321   1]\n"
     ]
    }
   ],
   "source": [
    "#thay đổi hình dạng\n",
    "arr = np.array([3,5,575,2,321,1])\n",
    "print(arr)\n",
    "reshape = arr.reshape(2,3)\n",
    "print(reshape)\n",
    "\n",
    "print(\"Chuyển thành mảng 1 chiều\",arr.flatten())"
   ]
  },
  {
   "cell_type": "code",
   "execution_count": 54,
   "id": "b0d1ff36-0934-490f-93b2-f9e0e1648ee9",
   "metadata": {},
   "outputs": [
    {
     "name": "stdout",
     "output_type": "stream",
     "text": [
      "[[1 4]\n",
      " [2 5]\n",
      " [3 6]]\n"
     ]
    },
    {
     "ename": "TypeError",
     "evalue": "only integer scalar arrays can be converted to a scalar index",
     "output_type": "error",
     "traceback": [
      "\u001b[1;31m---------------------------------------------------------------------------\u001b[0m",
      "\u001b[1;31mTypeError\u001b[0m                                 Traceback (most recent call last)",
      "Cell \u001b[1;32mIn[54], line 7\u001b[0m\n\u001b[0;32m      5\u001b[0m arr1\u001b[38;5;241m=\u001b[39m np\u001b[38;5;241m.\u001b[39marray([\u001b[38;5;241m1\u001b[39m,\u001b[38;5;241m3\u001b[39m,\u001b[38;5;241m4\u001b[39m])\n\u001b[0;32m      6\u001b[0m arr2\u001b[38;5;241m=\u001b[39m np\u001b[38;5;241m.\u001b[39marray([\u001b[38;5;241m2\u001b[39m,\u001b[38;5;241m6\u001b[39m,\u001b[38;5;241m8\u001b[39m])\n\u001b[1;32m----> 7\u001b[0m arr \u001b[38;5;241m=\u001b[39m np\u001b[38;5;241m.\u001b[39mconcatenate(arr1,arr2)\n\u001b[0;32m      8\u001b[0m \u001b[38;5;28mprint\u001b[39m(arr)\n",
      "\u001b[1;31mTypeError\u001b[0m: only integer scalar arrays can be converted to a scalar index"
     ]
    }
   ],
   "source": [
    "#chuyển vị mảng\n",
    "arr = np.array([[1,2,3],[4,5,6]])\n",
    "print(arr.T)\n",
    "\n",
    "arr1= np.array([1,3,4])\n",
    "arr2= np.array([2,6,8])\n",
    "arr = np.concatenate(arr1,arr2)\n",
    "print(arr)\n"
   ]
  },
  {
   "cell_type": "code",
   "execution_count": null,
   "id": "4fbfcb0d-350c-4791-a22b-89d455b8e062",
   "metadata": {},
   "outputs": [],
   "source": []
  }
 ],
 "metadata": {
  "kernelspec": {
   "display_name": "Python 3 (ipykernel)",
   "language": "python",
   "name": "python3"
  },
  "language_info": {
   "codemirror_mode": {
    "name": "ipython",
    "version": 3
   },
   "file_extension": ".py",
   "mimetype": "text/x-python",
   "name": "python",
   "nbconvert_exporter": "python",
   "pygments_lexer": "ipython3",
   "version": "3.12.4"
  }
 },
 "nbformat": 4,
 "nbformat_minor": 5
}
