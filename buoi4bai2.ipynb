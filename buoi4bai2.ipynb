{
 "cells": [
  {
   "cell_type": "code",
   "execution_count": 11,
   "id": "d5372571-6fad-449b-973c-1f9661182adf",
   "metadata": {},
   "outputs": [],
   "source": [
    "from PIL import Image\n",
    "import matplotlib.pyplot as plt\n",
    "import os"
   ]
  },
  {
   "cell_type": "code",
   "execution_count": 19,
   "id": "a50d496e-be12-4286-a625-2354cd3fd49f",
   "metadata": {},
   "outputs": [
    {
     "name": "stdout",
     "output_type": "stream",
     "text": [
      "[(422.8064516129033, 151.32741935483875), (216.99193548387098, 138.19032258064522), (262.241935483871, 238.90806451612906), (622.7822580645162, 254.9645161290323), (656.3548387096774, 154.24677419354845)]\n"
     ]
    }
   ],
   "source": [
    "im1 = Image.open(os.getcwd() + \"/img/img (2).jpg\")\n",
    "\n",
    "#chuyển đổi backend\n",
    "plt.switch_backend(\"tkagg\")\n",
    "plt.imshow(im1)\n",
    "plt.title(\"Click on the image to select points\")\n",
    "\n",
    "#sử dụng hàm ginput() để chọn điểm trên ảnh\n",
    "points = plt.ginput(5)\n",
    "\n",
    "print(points)\n",
    "plt.show()\n",
    "plt.close()"
   ]
  },
  {
   "cell_type": "code",
   "execution_count": 25,
   "id": "ac295372-883f-4601-a45f-06e122f2532a",
   "metadata": {},
   "outputs": [],
   "source": [
    "plt.imshow(im1)\n",
    "\n",
    "for point in points:\n",
    "    x,y=point\n",
    "    plt.plot(x,y,\"r*\")\n",
    "\n",
    "plt.show()"
   ]
  },
  {
   "cell_type": "code",
   "execution_count": null,
   "id": "ce9fa9c0-3b31-45cc-8c8f-7ef54e4c323b",
   "metadata": {},
   "outputs": [],
   "source": []
  }
 ],
 "metadata": {
  "kernelspec": {
   "display_name": "Python 3 (ipykernel)",
   "language": "python",
   "name": "python3"
  },
  "language_info": {
   "codemirror_mode": {
    "name": "ipython",
    "version": 3
   },
   "file_extension": ".py",
   "mimetype": "text/x-python",
   "name": "python",
   "nbconvert_exporter": "python",
   "pygments_lexer": "ipython3",
   "version": "3.12.4"
  }
 },
 "nbformat": 4,
 "nbformat_minor": 5
}
