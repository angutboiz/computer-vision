{
 "cells": [
  {
   "cell_type": "code",
   "execution_count": 1,
   "id": "eb8ac11d-80e2-47a7-90e9-c8a6105f43a0",
   "metadata": {},
   "outputs": [
    {
     "ename": "ZeroDivisionError",
     "evalue": "float division by zero",
     "output_type": "error",
     "traceback": [
      "\u001b[1;31m---------------------------------------------------------------------------\u001b[0m",
      "\u001b[1;31mZeroDivisionError\u001b[0m                         Traceback (most recent call last)",
      "Cell \u001b[1;32mIn[1], line 19\u001b[0m\n\u001b[0;32m     17\u001b[0m ret, frame \u001b[38;5;241m=\u001b[39m cap\u001b[38;5;241m.\u001b[39mread()\n\u001b[0;32m     18\u001b[0m end_time \u001b[38;5;241m=\u001b[39m time\u001b[38;5;241m.\u001b[39mtime()\n\u001b[1;32m---> 19\u001b[0m fps \u001b[38;5;241m=\u001b[39m \u001b[38;5;241m1\u001b[39m\u001b[38;5;241m/\u001b[39m(end_time\u001b[38;5;241m-\u001b[39mstart_time)\n\u001b[0;32m     20\u001b[0m cv2\u001b[38;5;241m.\u001b[39mputText(frame,\u001b[38;5;124mf\u001b[39m\u001b[38;5;124m\"\u001b[39m\u001b[38;5;124mFPS: \u001b[39m\u001b[38;5;132;01m{\u001b[39;00mfps\u001b[38;5;132;01m:\u001b[39;00m\u001b[38;5;124m.2f\u001b[39m\u001b[38;5;132;01m}\u001b[39;00m\u001b[38;5;124m\"\u001b[39m,(\u001b[38;5;241m100\u001b[39m,\u001b[38;5;241m100\u001b[39m),font,font_scale,font_color,font_thinkness)\n\u001b[0;32m     21\u001b[0m \u001b[38;5;28;01mif\u001b[39;00m \u001b[38;5;129;01mnot\u001b[39;00m ret:\n",
      "\u001b[1;31mZeroDivisionError\u001b[0m: float division by zero"
     ]
    }
   ],
   "source": [
    "import cv2\n",
    "import os\n",
    "import time\n",
    "\n",
    "path = os.getcwd() + \"/video.mp4\"\n",
    "cap = cv2.VideoCapture(path)\n",
    "font = cv2.FONT_HERSHEY_SIMPLEX\n",
    "font_color = (255,255,255)\n",
    "font_scale = 2\n",
    "font_thinkness = 2\n",
    "\n",
    "cv2.namedWindow(\"Video\",cv2.WINDOW_NORMAL)\n",
    "\n",
    "while True:\n",
    "    #đọc từng frame\n",
    "    start_time  = time.time()\n",
    "    ret, frame = cap.read()\n",
    "    end_time = time.time()\n",
    "    fps = 1/(end_time-start_time)\n",
    "    cv2.putText(frame,f\"FPS: {fps:.2f}\",(100,100),font,font_scale,font_color,font_thinkness)\n",
    "    if not ret:\n",
    "          break\n",
    "    cv2.imshow('Video', frame)   \n",
    "    if (cv2.waitKey(10)==ord(\"q\")):\n",
    "        break\n",
    "#huỷ bỏ layer\n",
    "cap.release\n",
    "cv2.destroyAllWindows()\n"
   ]
  },
  {
   "cell_type": "code",
   "execution_count": null,
   "id": "aa8eb78f-6659-431e-a889-8d63cf44bf4e",
   "metadata": {},
   "outputs": [],
   "source": []
  }
 ],
 "metadata": {
  "kernelspec": {
   "display_name": "Python 3 (ipykernel)",
   "language": "python",
   "name": "python3"
  },
  "language_info": {
   "codemirror_mode": {
    "name": "ipython",
    "version": 3
   },
   "file_extension": ".py",
   "mimetype": "text/x-python",
   "name": "python",
   "nbconvert_exporter": "python",
   "pygments_lexer": "ipython3",
   "version": "3.12.4"
  }
 },
 "nbformat": 4,
 "nbformat_minor": 5
}
