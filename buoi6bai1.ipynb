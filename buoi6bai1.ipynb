{
 "cells": [
  {
   "cell_type": "code",
   "execution_count": 2,
   "id": "09da4b26-770b-4024-83da-d2e053e83be7",
   "metadata": {},
   "outputs": [],
   "source": [
    "from scipy import linalg\n",
    "import numpy as np"
   ]
  },
  {
   "cell_type": "code",
   "execution_count": 8,
   "id": "5e364513-1527-40dc-ae52-eb225ce833c5",
   "metadata": {},
   "outputs": [
    {
     "name": "stdout",
     "output_type": "stream",
     "text": [
      "Result: [ 3. -1.]\n"
     ]
    }
   ],
   "source": [
    "#định nghĩa hệ phương trình tuyến tính\n",
    "A = np.array([[2,1],[3,2]])\n",
    "b = np.array([5,7])\n",
    "\n",
    "x = linalg.solve(A,b)\n",
    "print(f\"Result: {x}\")\n",
    "\n"
   ]
  },
  {
   "cell_type": "code",
   "execution_count": 22,
   "id": "a7f6d13b-90e7-4090-9084-6528b1cc9d48",
   "metadata": {},
   "outputs": [
    {
     "name": "stdout",
     "output_type": "stream",
     "text": [
      "Tích phân f(x) từ 0 tới 1 = (0.33333333333333337, 3.700743415417189e-15)\n"
     ]
    }
   ],
   "source": [
    "#tính tích phân của 1 hàm số\n",
    "from scipy import integrate\n",
    "#define f(x) = x^3+2\n",
    "def my_func(x):\n",
    "    return x**3+2\n",
    "\n",
    "#tính tích phân của f(x) từ 0 -> 1\n",
    "intergral = integrate.quad(my_func,0,1)\n",
    "print(f\"Tích phân f(x) từ 0 tới 1 = {intergral}\")"
   ]
  },
  {
   "cell_type": "code",
   "execution_count": 24,
   "id": "8120aaf5-ecb5-43c7-82df-06a2ca731650",
   "metadata": {},
   "outputs": [
    {
     "name": "stdout",
     "output_type": "stream",
     "text": [
      "evals = [1.14589803+0.j 7.85410197+0.j]\n",
      "evecs = [[-0.76039797 -0.16838141]\n",
      " [ 0.6494574  -0.98572192]]\n"
     ]
    }
   ],
   "source": [
    "#tính giá trị riêng và vector riêng của ma trận\n",
    "vecA = np.array([[2,1],[5,7]])\n",
    "\n",
    "#tính giá trị riêng và vector riêng:\n",
    "evals,evecs = linalg.eig(vecA)\n",
    "\n",
    "print(f\"evals = {evals}\")\n",
    "print(f\"evecs = {evecs}\")"
   ]
  },
  {
   "cell_type": "code",
   "execution_count": null,
   "id": "c7f8d6d3-3706-4a54-b1fc-e36dca4d35bf",
   "metadata": {},
   "outputs": [],
   "source": []
  }
 ],
 "metadata": {
  "kernelspec": {
   "display_name": "Python 3 (ipykernel)",
   "language": "python",
   "name": "python3"
  },
  "language_info": {
   "codemirror_mode": {
    "name": "ipython",
    "version": 3
   },
   "file_extension": ".py",
   "mimetype": "text/x-python",
   "name": "python",
   "nbconvert_exporter": "python",
   "pygments_lexer": "ipython3",
   "version": "3.12.4"
  }
 },
 "nbformat": 4,
 "nbformat_minor": 5
}
